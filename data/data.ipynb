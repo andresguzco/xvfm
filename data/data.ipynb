{
 "cells": [
  {
   "cell_type": "code",
   "execution_count": 1,
   "metadata": {},
   "outputs": [],
   "source": [
    "import numpy as np\n",
    "import pandas as pd\n",
    "import os"
   ]
  },
  {
   "cell_type": "code",
   "execution_count": 6,
   "metadata": {},
   "outputs": [
    {
     "name": "stdout",
     "output_type": "stream",
     "text": [
      "0\n"
     ]
    }
   ],
   "source": [
    "array = np.load('magic/X_cat_train.npy')\n",
    "print(array.size)"
   ]
  },
  {
   "cell_type": "code",
   "execution_count": 4,
   "metadata": {},
   "outputs": [],
   "source": [
    "def check_files_in_subdirectories():\n",
    "    # Define the target file names\n",
    "    target_files = [\"X_num_train.npy\", \"X_cat_train.npy\", \"y_train.npy\"]\n",
    "\n",
    "    # Walk through all subdirectories in the current directory\n",
    "    for root, dirs, files in os.walk(\".\"):\n",
    "        for target_file in target_files:\n",
    "            if target_file in files:\n",
    "                file_path = os.path.join(root, target_file)\n",
    "                try:\n",
    "                    # Load the .npy file\n",
    "                    data = np.load(file_path, allow_pickle=True)\n",
    "                    \n",
    "                    # Check if the data is numeric\n",
    "                    if np.issubdtype(data.dtype, np.number):\n",
    "                        # If numeric, check for NaN values\n",
    "                        if np.isnan(data).any():\n",
    "                            print(f\"NaNs found in file: {file_path}\")\n",
    "                    else:\n",
    "                        # If categorical, print unique values\n",
    "                        unique_values = np.unique(data)\n",
    "                        print(f\"Unique values in file {file_path}: {unique_values}\")\n",
    "                except Exception as e:\n",
    "                    # Catch any errors during file loading and processing\n",
    "                    print(f\"Error loading file {file_path}: {e}\")"
   ]
  },
  {
   "cell_type": "code",
   "execution_count": 5,
   "metadata": {},
   "outputs": [
    {
     "name": "stdout",
     "output_type": "stream",
     "text": [
      "Unique values in file ./abalone/X_cat_test.npy: ['F' 'I' 'M']\n",
      "Unique values in file ./cardio/X_cat_test.npy: ['0' '1' '2' '3']\n",
      "Unique values in file ./fb-comments/X_cat_test.npy: ['0' '1' '10' '100' '101' '105' '106' '11' '12' '13' '14' '15' '16' '17'\n",
      " '18' '19' '2' '20' '21' '22' '23' '24' '25' '26' '27' '28' '29' '3' '30'\n",
      " '31' '32' '33' '34' '35' '36' '38' '39' '4' '40' '42' '44' '45' '46' '47'\n",
      " '49' '5' '50' '51' '54' '55' '56' '57' '58' '59' '6' '60' '61' '62' '63'\n",
      " '66' '67' '68' '72' '73' '75' '76' '77' '79' '8' '80' '81' '82' '85' '87'\n",
      " '89' '9' '90' '91' '92' '93' '96']\n",
      "Unique values in file ./buddy/X_cat_test.npy: ['0' '0.0' '1' '1.0' '11' '12' '13' '15' '16' '17' '18' '2' '2.0' '3' '4'\n",
      " '5' '6' '7' '8' '9' 'Agouti' 'Apricot' 'Black' 'Black Brindle'\n",
      " 'Black Smoke' 'Black Tabby' 'Blue' 'Blue Cream' 'Blue Merle' 'Blue Point'\n",
      " 'Blue Smoke' 'Blue Tabby' 'Blue Tick' 'Blue Tiger' 'Brown'\n",
      " 'Brown Brindle' 'Brown Merle' 'Brown Tabby' 'Buff' 'Calico'\n",
      " 'Calico Point' 'Chocolate' 'Chocolate Point' 'Cream' 'Cream Tabby' 'Fawn'\n",
      " 'Flame Point' 'Gold' 'Gray' 'Gray Tabby' 'Green' 'Lilac Point'\n",
      " 'Lynx Point' 'Orange' 'Orange Tabby' 'Pink' 'Red' 'Red Merle' 'Red Tick'\n",
      " 'Sable' 'Seal Point' 'Silver' 'Silver Lynx Point' 'Silver Tabby' 'Tan'\n",
      " 'Torbie' 'Tortie' 'Tortie Point' 'Tricolor' 'White' 'Yellow'\n",
      " 'Yellow Brindle']\n",
      "Unique values in file ./churn2/X_cat_test.npy: ['0' '1' 'France' 'Germany' 'Spain']\n",
      "Unique values in file ./adult/X_cat_test.npy: ['10th' '11th' '12th' '1st-4th' '5th-6th' '7th-8th' '9th' 'Adm-clerical'\n",
      " 'Amer-Indian-Eskimo' 'Armed-Forces' 'Asian-Pac-Islander' 'Assoc-acdm'\n",
      " 'Assoc-voc' 'Bachelors' 'Black' 'Cambodia' 'Canada' 'China' 'Columbia'\n",
      " 'Craft-repair' 'Cuba' 'Divorced' 'Doctorate' 'Dominican-Republic'\n",
      " 'Ecuador' 'El-Salvador' 'England' 'Exec-managerial' 'Farming-fishing'\n",
      " 'Federal-gov' 'Female' 'France' 'Germany' 'Greece' 'Guatemala' 'HS-grad'\n",
      " 'Haiti' 'Handlers-cleaners' 'Honduras' 'Hong' 'Hungary' 'Husband' 'India'\n",
      " 'Iran' 'Ireland' 'Italy' 'Jamaica' 'Japan' 'Laos' 'Local-gov'\n",
      " 'Machine-op-inspct' 'Male' 'Married-AF-spouse' 'Married-civ-spouse'\n",
      " 'Married-spouse-absent' 'Masters' 'Mexico' 'Never-married' 'Never-worked'\n",
      " 'Nicaragua' 'Not-in-family' 'Other' 'Other-relative' 'Other-service'\n",
      " 'Outlying-US(Guam-USVI-etc)' 'Own-child' 'Peru' 'Philippines' 'Poland'\n",
      " 'Portugal' 'Preschool' 'Priv-house-serv' 'Private' 'Prof-school'\n",
      " 'Prof-specialty' 'Protective-serv' 'Puerto-Rico' 'Sales' 'Scotland'\n",
      " 'Self-emp-inc' 'Self-emp-not-inc' 'Separated' 'Some-college' 'South'\n",
      " 'State-gov' 'Taiwan' 'Tech-support' 'Thailand' 'Transport-moving'\n",
      " 'Trinadad&Tobago' 'United-States' 'Unmarried' 'Vietnam' 'White' 'Widowed'\n",
      " 'Wife' 'Without-pay' 'Yugoslavia' 'nan']\n",
      "Unique values in file ./insurance/X_cat_test.npy: ['female' 'male' 'no' 'northeast' 'northwest' 'southeast' 'southwest'\n",
      " 'yes']\n",
      "Unique values in file ./king/X_cat_test.npy: ['0' '1' '2' '3' '4' '5']\n"
     ]
    }
   ],
   "source": [
    "check_files_in_subdirectories()"
   ]
  },
  {
   "cell_type": "code",
   "execution_count": null,
   "metadata": {},
   "outputs": [
    {
     "data": {
      "text/html": [
       "<div>\n",
       "<style scoped>\n",
       "    .dataframe tbody tr th:only-of-type {\n",
       "        vertical-align: middle;\n",
       "    }\n",
       "\n",
       "    .dataframe tbody tr th {\n",
       "        vertical-align: top;\n",
       "    }\n",
       "\n",
       "    .dataframe thead th {\n",
       "        text-align: right;\n",
       "    }\n",
       "</style>\n",
       "<table border=\"1\" class=\"dataframe\">\n",
       "  <thead>\n",
       "    <tr style=\"text-align: right;\">\n",
       "      <th></th>\n",
       "      <th>0</th>\n",
       "      <th>1</th>\n",
       "      <th>2</th>\n",
       "      <th>3</th>\n",
       "      <th>4</th>\n",
       "      <th>5</th>\n",
       "      <th>6</th>\n",
       "      <th>7</th>\n",
       "    </tr>\n",
       "  </thead>\n",
       "  <tbody>\n",
       "    <tr>\n",
       "      <th>0</th>\n",
       "      <td>Private</td>\n",
       "      <td>11th</td>\n",
       "      <td>Never-married</td>\n",
       "      <td>Machine-op-inspct</td>\n",
       "      <td>Own-child</td>\n",
       "      <td>Black</td>\n",
       "      <td>Male</td>\n",
       "      <td>United-States</td>\n",
       "    </tr>\n",
       "    <tr>\n",
       "      <th>1</th>\n",
       "      <td>Private</td>\n",
       "      <td>HS-grad</td>\n",
       "      <td>Married-civ-spouse</td>\n",
       "      <td>Farming-fishing</td>\n",
       "      <td>Husband</td>\n",
       "      <td>White</td>\n",
       "      <td>Male</td>\n",
       "      <td>United-States</td>\n",
       "    </tr>\n",
       "    <tr>\n",
       "      <th>2</th>\n",
       "      <td>Local-gov</td>\n",
       "      <td>Assoc-acdm</td>\n",
       "      <td>Married-civ-spouse</td>\n",
       "      <td>Protective-serv</td>\n",
       "      <td>Husband</td>\n",
       "      <td>White</td>\n",
       "      <td>Male</td>\n",
       "      <td>United-States</td>\n",
       "    </tr>\n",
       "    <tr>\n",
       "      <th>3</th>\n",
       "      <td>Private</td>\n",
       "      <td>Some-college</td>\n",
       "      <td>Married-civ-spouse</td>\n",
       "      <td>Machine-op-inspct</td>\n",
       "      <td>Husband</td>\n",
       "      <td>Black</td>\n",
       "      <td>Male</td>\n",
       "      <td>United-States</td>\n",
       "    </tr>\n",
       "    <tr>\n",
       "      <th>4</th>\n",
       "      <td>nan</td>\n",
       "      <td>Some-college</td>\n",
       "      <td>Never-married</td>\n",
       "      <td>nan</td>\n",
       "      <td>Own-child</td>\n",
       "      <td>White</td>\n",
       "      <td>Female</td>\n",
       "      <td>United-States</td>\n",
       "    </tr>\n",
       "  </tbody>\n",
       "</table>\n",
       "</div>"
      ],
      "text/plain": [
       "           0             1                   2                  3          4  \\\n",
       "0    Private          11th       Never-married  Machine-op-inspct  Own-child   \n",
       "1    Private       HS-grad  Married-civ-spouse    Farming-fishing    Husband   \n",
       "2  Local-gov    Assoc-acdm  Married-civ-spouse    Protective-serv    Husband   \n",
       "3    Private  Some-college  Married-civ-spouse  Machine-op-inspct    Husband   \n",
       "4        nan  Some-college       Never-married                nan  Own-child   \n",
       "\n",
       "       5       6              7  \n",
       "0  Black    Male  United-States  \n",
       "1  White    Male  United-States  \n",
       "2  White    Male  United-States  \n",
       "3  Black    Male  United-States  \n",
       "4  White  Female  United-States  "
      ]
     },
     "execution_count": 2,
     "metadata": {},
     "output_type": "execute_result"
    }
   ],
   "source": [
    "df = pd.DataFrame(np.load(\"adult/X_cat_train.npy\", allow_pickle=True))\n",
    "df.head(5)"
   ]
  },
  {
   "cell_type": "code",
   "execution_count": 8,
   "metadata": {},
   "outputs": [
    {
     "name": "stdout",
     "output_type": "stream",
     "text": [
      "['Private' 'Local-gov' 'nan' 'Self-emp-not-inc' 'Federal-gov' 'State-gov'\n",
      " 'Self-emp-inc' 'Without-pay' 'Never-worked']\n",
      "['11th' 'HS-grad' 'Assoc-acdm' 'Some-college' '10th' 'Prof-school'\n",
      " '7th-8th' 'Bachelors' 'Masters' 'Doctorate' '5th-6th' 'Assoc-voc' '9th'\n",
      " '12th' '1st-4th' 'Preschool']\n",
      "['Never-married' 'Married-civ-spouse' 'Widowed' 'Divorced' 'Separated'\n",
      " 'Married-spouse-absent' 'Married-AF-spouse']\n",
      "['Machine-op-inspct' 'Farming-fishing' 'Protective-serv' 'nan'\n",
      " 'Other-service' 'Prof-specialty' 'Craft-repair' 'Adm-clerical'\n",
      " 'Exec-managerial' 'Tech-support' 'Sales' 'Priv-house-serv'\n",
      " 'Transport-moving' 'Handlers-cleaners' 'Armed-Forces']\n",
      "['Own-child' 'Husband' 'Not-in-family' 'Unmarried' 'Wife' 'Other-relative']\n",
      "['Black' 'White' 'Asian-Pac-Islander' 'Other' 'Amer-Indian-Eskimo']\n",
      "['Male' 'Female']\n",
      "['United-States' 'nan' 'Peru' 'Guatemala' 'Mexico' 'Dominican-Republic'\n",
      " 'Ireland' 'Germany' 'Philippines' 'Thailand' 'Haiti' 'El-Salvador'\n",
      " 'Puerto-Rico' 'Vietnam' 'South' 'Columbia' 'Japan' 'India' 'Cambodia'\n",
      " 'Poland' 'Laos' 'England' 'Cuba' 'Taiwan' 'Italy' 'Canada' 'Portugal'\n",
      " 'China' 'Nicaragua' 'Honduras' 'Iran' 'Scotland' 'Jamaica' 'Ecuador'\n",
      " 'Yugoslavia' 'Hungary' 'Hong' 'Greece' 'Trinadad&Tobago'\n",
      " 'Outlying-US(Guam-USVI-etc)' 'France']\n"
     ]
    }
   ],
   "source": [
    "for i in range(8):\n",
    "    print(df.iloc[:, i].unique())"
   ]
  },
  {
   "cell_type": "code",
   "execution_count": 9,
   "metadata": {},
   "outputs": [
    {
     "name": "stdout",
     "output_type": "stream",
     "text": [
      "NaNs found in column 0\n",
      "NaNs found in column 3\n",
      "NaNs found in column 7\n"
     ]
    }
   ],
   "source": [
    "for i in range(8):\n",
    "    if 'nan' in df.iloc[:, i].unique():\n",
    "        print(f\"NaNs found in column {i}\")"
   ]
  },
  {
   "cell_type": "code",
   "execution_count": 10,
   "metadata": {},
   "outputs": [],
   "source": [
    "df.replace('nan' , np.nan, inplace=True)"
   ]
  },
  {
   "cell_type": "code",
   "execution_count": 11,
   "metadata": {},
   "outputs": [
    {
     "data": {
      "text/plain": [
       "Index([    4,     6,    13,    19,    22,    35,    65,    75,    83,    89,\n",
       "       ...\n",
       "       16035, 16043, 16090, 16117, 16121, 16208, 16239, 16251, 16265, 16277],\n",
       "      dtype='int64', length=1221)"
      ]
     },
     "execution_count": 11,
     "metadata": {},
     "output_type": "execute_result"
    }
   ],
   "source": [
    "\n",
    "nan_rows = df[df.isna().any(axis=1)].index\n",
    "nan_rows"
   ]
  },
  {
   "cell_type": "code",
   "execution_count": 13,
   "metadata": {},
   "outputs": [
    {
     "name": "stdout",
     "output_type": "stream",
     "text": [
      "df shape before dropping NaNs: (15060, 8)\n"
     ]
    },
    {
     "ename": "KeyError",
     "evalue": "'[4, 6, 13, 19, 22, 35, 65, 75, 83, 89, 100, 113, 132, 182, 185, 188, 193, 228, 229, 245, 253, 266, 268, 274, 305, 316, 329, 331, 350, 378, 394, 397, 403, 413, 420, 429, 434, 437, 470, 471, 505, 515, 516, 563, 604, 612, 626, 637, 640, 641, 647, 648, 657, 664, 665, 687, 693, 703, 717, 728, 765, 768, 781, 816, 843, 873, 880, 913, 915, 926, 933, 960, 981, 1000, 1002, 1005, 1008, 1009, 1018, 1029, 1038, 1043, 1048, 1063, 1120, 1127, 1130, 1142, 1156, 1163, 1167, 1169, 1177, 1197, 1205, 1241, 1251, 1258, 1259, 1285, 1306, 1333, 1338, 1362, 1364, 1367, 1377, 1395, 1405, 1417, 1427, 1438, 1465, 1480, 1522, 1524, 1535, 1560, 1593, 1595, 1606, 1607, 1612, 1615, 1625, 1626, 1641, 1643, 1665, 1681, 1700, 1733, 1746, 1750, 1774, 1778, 1780, 1787, 1791, 1800, 1801, 1813, 1821, 1822, 1828, 1831, 1832, 1834, 1837, 1863, 1866, 1893, 1939, 1940, 1944, 1955, 1982, 2023, 2042, 2055, 2060, 2088, 2092, 2095, 2106, 2117, 2122, 2160, 2163, 2201, 2226, 2228, 2255, 2263, 2281, 2304, 2317, 2323, 2333, 2349, 2364, 2410, 2415, 2416, 2438, 2447, 2476, 2488, 2492, 2494, 2498, 2507, 2510, 2531, 2536, 2539, 2547, 2551, 2556, 2579, 2584, 2593, 2612, 2629, 2634, 2642, 2650, 2651, 2655, 2666, 2696, 2702, 2721, 2760, 2774, 2775, 2778, 2797, 2804, 2808, 2848, 2885, 2902, 2920, 2955, 2965, 2995, 3004, 3018, 3024, 3037, 3060, 3067, 3074, 3083, 3090, 3102, 3121, 3130, 3143, 3159, 3200, 3206, 3216, 3219, 3221, 3228, 3232, 3237, 3259, 3288, 3297, 3313, 3407, 3413, 3421, 3431, 3439, 3459, 3479, 3484, 3492, 3507, 3540, 3569, 3638, 3669, 3671, 3677, 3690, 3698, 3725, 3729, 3744, 3746, 3757, 3761, 3785, 3816, 3853, 3859, 3866, 3867, 3870, 3882, 3920, 3963, 3977, 3982, 3994, 3997, 4003, 4005, 4017, 4043, 4055, 4058, 4067, 4081, 4108, 4117, 4136, 4148, 4155, 4176, 4186, 4216, 4221, 4227, 4230, 4233, 4238, 4241, 4259, 4265, 4270, 4274, 4281, 4297, 4304, 4321, 4330, 4350, 4372, 4408, 4440, 4455, 4467, 4483, 4486, 4519, 4539, 4544, 4575, 4585, 4597, 4607, 4610, 4624, 4640, 4641, 4642, 4646, 4648, 4661, 4662, 4668, 4696, 4708, 4727, 4728, 4744, 4745, 4747, 4748, 4753, 4759, 4763, 4776, 4777, 4783, 4788, 4802, 4821, 4823, 4840, 4843, 4846, 4858, 4861, 4870, 4885, 4898, 4910, 4922, 4927, 4934, 4935, 4946, 4959, 4984, 4989, 4995, 4998, 5023, 5046, 5052, 5066, 5078, 5087, 5108, 5109, 5125, 5134, 5145, 5146, 5148, 5151, 5164, 5170, 5174, 5180, 5181, 5227, 5245, 5256, 5289, 5329, 5348, 5360, 5372, 5373, 5379, 5391, 5400, 5419, 5425, 5434, 5468, 5470, 5473, 5476, 5486, 5496, 5515, 5518, 5530, 5532, 5536, 5573, 5583, 5587, 5623, 5635, 5646, 5647, 5649, 5661, 5681, 5682, 5701, 5714, 5716, 5726, 5731, 5732, 5735, 5746, 5783, 5816, 5824, 5828, 5836, 5838, 5885, 5888, 5896, 5900, 5936, 5943, 5952, 5957, 5972, 5990, 5991, 6033, 6047, 6050, 6053, 6064, 6082, 6095, 6099, 6130, 6152, 6179, 6186, 6205, 6207, 6219, 6221, 6231, 6232, 6233, 6250, 6265, 6320, 6325, 6334, 6365, 6371, 6384, 6385, 6398, 6402, 6432, 6433, 6491, 6499, 6508, 6517, 6525, 6586, 6611, 6613, 6614, 6623, 6642, 6648, 6660, 6673, 6684, 6751, 6761, 6766, 6775, 6783, 6790, 6797, 6800, 6805, 6839, 6841, 6862, 6869, 6870, 6874, 6875, 6884, 6917, 6928, 6941, 6992, 7016, 7046, 7059, 7066, 7071, 7138, 7141, 7152, 7166, 7169, 7170, 7205, 7223, 7231, 7251, 7263, 7266, 7270, 7287, 7303, 7354, 7374, 7425, 7435, 7442, 7444, 7456, 7480, 7511, 7529, 7534, 7539, 7558, 7561, 7566, 7597, 7600, 7610, 7620, 7623, 7633, 7640, 7647, 7676, 7707, 7720, 7723, 7724, 7734, 7749, 7771, 7775, 7785, 7793, 7799, 7811, 7816, 7828, 7871, 7882, 7892, 7895, 7900, 7923, 7924, 7926, 7947, 7970, 8018, 8023, 8027, 8028, 8041, 8043, 8077, 8079, 8103, 8104, 8111, 8115, 8116, 8122, 8160, 8161, 8182, 8183, 8189, 8203, 8206, 8223, 8231, 8234, 8246, 8248, 8250, 8258, 8264, 8284, 8289, 8290, 8337, 8341, 8346, 8368, 8377, 8383, 8432, 8584, 8599, 8611, 8621, 8626, 8633, 8635, 8648, 8660, 8667, 8681, 8694, 8699, 8702, 8710, 8713, 8721, 8753, 8760, 8763, 8773, 8785, 8794, 8803, 8836, 8837, 8839, 8848, 8851, 8869, 8875, 8900, 8916, 8921, 8937, 8953, 8975, 8988, 9030, 9032, 9054, 9056, 9081, 9083, 9089, 9091, 9102, 9128, 9135, 9137, 9144, 9145, 9175, 9179, 9199, 9211, 9239, 9243, 9251, 9253, 9257, 9262, 9274, 9289, 9296, 9312, 9319, 9334, 9339, 9353, 9354, 9357, 9361, 9367, 9380, 9381, 9382, 9414, 9417, 9435, 9437, 9493, 9494, 9496, 9501, 9516, 9524, 9551, 9563, 9566, 9567, 9580, 9584, 9585, 9602, 9607, 9608, 9623, 9625, 9634, 9636, 9648, 9667, 9698, 9708, 9715, 9723, 9735, 9739, 9750, 9752, 9767, 9802, 9807, 9831, 9841, 9849, 9873, 9875, 9898, 9904, 9956, 9982, 10001, 10024, 10028, 10047, 10056, 10065, 10076, 10100, 10110, 10116, 10132, 10150, 10156, 10177, 10179, 10201, 10205, 10207, 10214, 10241, 10248, 10261, 10265, 10266, 10270, 10272, 10285, 10318, 10333, 10345, 10355, 10363, 10364, 10408, 10431, 10436, 10474, 10475, 10508, 10539, 10559, 10570, 10578, 10612, 10620, 10666, 10670, 10673, 10699, 10710, 10726, 10738, 10756, 10767, 10795, 10801, 10833, 10841, 10850, 10871, 10883, 10890, 10891, 10914, 10941, 10978, 11003, 11054, 11109, 11129, 11132, 11201, 11224, 11230, 11253, 11285, 11303, 11313, 11338, 11347, 11355, 11366, 11389, 11403, 11406, 11437, 11457, 11467, 11493, 11517, 11561, 11562, 11595, 11607, 11609, 11623, 11646, 11655, 11685, 11701, 11709, 11732, 11748, 11761, 11762, 11767, 11783, 11788, 11802, 11848, 11871, 11881, 11888, 11901, 11905, 11907, 11921, 11939, 11945, 11946, 11947, 11966, 11968, 11973, 11976, 11987, 12021, 12026, 12034, 12035, 12037, 12052, 12063, 12065, 12123, 12162, 12189, 12194, 12219, 12237, 12240, 12249, 12288, 12307, 12313, 12322, 12357, 12361, 12368, 12370, 12371, 12373, 12385, 12397, 12398, 12408, 12414, 12421, 12422, 12424, 12429, 12435, 12455, 12461, 12505, 12510, 12561, 12568, 12576, 12578, 12603, 12606, 12611, 12616, 12625, 12647, 12676, 12698, 12707, 12724, 12751, 12773, 12779, 12788, 12796, 12801, 12839, 12856, 12859, 12867, 12872, 12875, 12883, 12892, 12910, 12978, 12989, 12993, 13071, 13073, 13084, 13094, 13098, 13123, 13135, 13138, 13158, 13170, 13183, 13195, 13205, 13240, 13253, 13289, 13292, 13310, 13314, 13322, 13326, 13330, 13341, 13361, 13379, 13405, 13406, 13414, 13416, 13417, 13432, 13439, 13467, 13472, 13473, 13490, 13495, 13520, 13530, 13546, 13549, 13574, 13577, 13596, 13613, 13659, 13661, 13663, 13679, 13692, 13720, 13745, 13759, 13763, 13768, 13771, 13779, 13791, 13796, 13825, 13833, 13837, 13838, 13853, 13870, 13872, 13891, 13897, 13898, 13907, 13925, 13930, 13933, 13935, 13951, 13957, 13970, 13979, 13984, 13987, 13989, 14004, 14018, 14028, 14029, 14033, 14047, 14056, 14071, 14073, 14131, 14134, 14178, 14188, 14202, 14208, 14224, 14239, 14262, 14285, 14315, 14333, 14362, 14372, 14377, 14385, 14406, 14424, 14430, 14445, 14448, 14458, 14464, 14489, 14490, 14504, 14522, 14546, 14547, 14555, 14557, 14561, 14573, 14584, 14604, 14605, 14610, 14628, 14651, 14652, 14656, 14664, 14665, 14669, 14674, 14680, 14705, 14721, 14723, 14726, 14728, 14731, 14737, 14757, 14758, 14761, 14779, 14791, 14815, 14865, 14883, 14931, 14941, 14960, 14980, 15003, 15005, 15007, 15014, 15049, 15074, 15083, 15090, 15098, 15140, 15170, 15180, 15181, 15184, 15192, 15200, 15207, 15220, 15233, 15237, 15248, 15258, 15259, 15285, 15286, 15317, 15320, 15324, 15334, 15336, 15342, 15349, 15366, 15396, 15408, 15413, 15418, 15420, 15427, 15470, 15479, 15480, 15502, 15520, 15524, 15529, 15550, 15557, 15573, 15592, 15593, 15599, 15637, 15638, 15654, 15678, 15679, 15683, 15684, 15710, 15711, 15712, 15732, 15747, 15748, 15768, 15781, 15787, 15796, 15812, 15822, 15823, 15832, 15836, 15839, 15846, 15851, 15856, 15861, 15864, 15876, 15879, 15909, 15912, 15916, 15922, 15924, 15952, 15983, 15988, 15992, 16001, 16006, 16018, 16032, 16035, 16043, 16090, 16117, 16121, 16208, 16239, 16251, 16265, 16277] not found in axis'",
     "output_type": "error",
     "traceback": [
      "\u001b[0;31m---------------------------------------------------------------------------\u001b[0m",
      "\u001b[0;31mKeyError\u001b[0m                                  Traceback (most recent call last)",
      "Cell \u001b[0;32mIn[13], line 2\u001b[0m\n\u001b[1;32m      1\u001b[0m \u001b[38;5;28mprint\u001b[39m(\u001b[38;5;124mf\u001b[39m\u001b[38;5;124m\"\u001b[39m\u001b[38;5;124mdf shape before dropping NaNs: \u001b[39m\u001b[38;5;132;01m{\u001b[39;00mdf\u001b[38;5;241m.\u001b[39mshape\u001b[38;5;132;01m}\u001b[39;00m\u001b[38;5;124m\"\u001b[39m)\n\u001b[0;32m----> 2\u001b[0m \u001b[43mdf\u001b[49m\u001b[38;5;241;43m.\u001b[39;49m\u001b[43mdrop\u001b[49m\u001b[43m(\u001b[49m\u001b[43mnan_rows\u001b[49m\u001b[43m,\u001b[49m\u001b[43m \u001b[49m\u001b[43minplace\u001b[49m\u001b[38;5;241;43m=\u001b[39;49m\u001b[38;5;28;43;01mTrue\u001b[39;49;00m\u001b[43m)\u001b[49m\n\u001b[1;32m      3\u001b[0m \u001b[38;5;28mprint\u001b[39m(\u001b[38;5;124mf\u001b[39m\u001b[38;5;124m\"\u001b[39m\u001b[38;5;124mdf shape after dropping NaNs: \u001b[39m\u001b[38;5;132;01m{\u001b[39;00mdf\u001b[38;5;241m.\u001b[39mshape\u001b[38;5;132;01m}\u001b[39;00m\u001b[38;5;124m\"\u001b[39m)\n",
      "File \u001b[0;32m/opt/homebrew/Caskroom/miniforge/base/envs/be_exam/lib/python3.13/site-packages/pandas/core/frame.py:5581\u001b[0m, in \u001b[0;36mDataFrame.drop\u001b[0;34m(self, labels, axis, index, columns, level, inplace, errors)\u001b[0m\n\u001b[1;32m   5433\u001b[0m \u001b[38;5;28;01mdef\u001b[39;00m\u001b[38;5;250m \u001b[39m\u001b[38;5;21mdrop\u001b[39m(\n\u001b[1;32m   5434\u001b[0m     \u001b[38;5;28mself\u001b[39m,\n\u001b[1;32m   5435\u001b[0m     labels: IndexLabel \u001b[38;5;241m|\u001b[39m \u001b[38;5;28;01mNone\u001b[39;00m \u001b[38;5;241m=\u001b[39m \u001b[38;5;28;01mNone\u001b[39;00m,\n\u001b[0;32m   (...)\u001b[0m\n\u001b[1;32m   5442\u001b[0m     errors: IgnoreRaise \u001b[38;5;241m=\u001b[39m \u001b[38;5;124m\"\u001b[39m\u001b[38;5;124mraise\u001b[39m\u001b[38;5;124m\"\u001b[39m,\n\u001b[1;32m   5443\u001b[0m ) \u001b[38;5;241m-\u001b[39m\u001b[38;5;241m>\u001b[39m DataFrame \u001b[38;5;241m|\u001b[39m \u001b[38;5;28;01mNone\u001b[39;00m:\n\u001b[1;32m   5444\u001b[0m \u001b[38;5;250m    \u001b[39m\u001b[38;5;124;03m\"\"\"\u001b[39;00m\n\u001b[1;32m   5445\u001b[0m \u001b[38;5;124;03m    Drop specified labels from rows or columns.\u001b[39;00m\n\u001b[1;32m   5446\u001b[0m \n\u001b[0;32m   (...)\u001b[0m\n\u001b[1;32m   5579\u001b[0m \u001b[38;5;124;03m            weight  1.0     0.8\u001b[39;00m\n\u001b[1;32m   5580\u001b[0m \u001b[38;5;124;03m    \"\"\"\u001b[39;00m\n\u001b[0;32m-> 5581\u001b[0m     \u001b[38;5;28;01mreturn\u001b[39;00m \u001b[38;5;28;43msuper\u001b[39;49m\u001b[43m(\u001b[49m\u001b[43m)\u001b[49m\u001b[38;5;241;43m.\u001b[39;49m\u001b[43mdrop\u001b[49m\u001b[43m(\u001b[49m\n\u001b[1;32m   5582\u001b[0m \u001b[43m        \u001b[49m\u001b[43mlabels\u001b[49m\u001b[38;5;241;43m=\u001b[39;49m\u001b[43mlabels\u001b[49m\u001b[43m,\u001b[49m\n\u001b[1;32m   5583\u001b[0m \u001b[43m        \u001b[49m\u001b[43maxis\u001b[49m\u001b[38;5;241;43m=\u001b[39;49m\u001b[43maxis\u001b[49m\u001b[43m,\u001b[49m\n\u001b[1;32m   5584\u001b[0m \u001b[43m        \u001b[49m\u001b[43mindex\u001b[49m\u001b[38;5;241;43m=\u001b[39;49m\u001b[43mindex\u001b[49m\u001b[43m,\u001b[49m\n\u001b[1;32m   5585\u001b[0m \u001b[43m        \u001b[49m\u001b[43mcolumns\u001b[49m\u001b[38;5;241;43m=\u001b[39;49m\u001b[43mcolumns\u001b[49m\u001b[43m,\u001b[49m\n\u001b[1;32m   5586\u001b[0m \u001b[43m        \u001b[49m\u001b[43mlevel\u001b[49m\u001b[38;5;241;43m=\u001b[39;49m\u001b[43mlevel\u001b[49m\u001b[43m,\u001b[49m\n\u001b[1;32m   5587\u001b[0m \u001b[43m        \u001b[49m\u001b[43minplace\u001b[49m\u001b[38;5;241;43m=\u001b[39;49m\u001b[43minplace\u001b[49m\u001b[43m,\u001b[49m\n\u001b[1;32m   5588\u001b[0m \u001b[43m        \u001b[49m\u001b[43merrors\u001b[49m\u001b[38;5;241;43m=\u001b[39;49m\u001b[43merrors\u001b[49m\u001b[43m,\u001b[49m\n\u001b[1;32m   5589\u001b[0m \u001b[43m    \u001b[49m\u001b[43m)\u001b[49m\n",
      "File \u001b[0;32m/opt/homebrew/Caskroom/miniforge/base/envs/be_exam/lib/python3.13/site-packages/pandas/core/generic.py:4788\u001b[0m, in \u001b[0;36mNDFrame.drop\u001b[0;34m(self, labels, axis, index, columns, level, inplace, errors)\u001b[0m\n\u001b[1;32m   4786\u001b[0m \u001b[38;5;28;01mfor\u001b[39;00m axis, labels \u001b[38;5;129;01min\u001b[39;00m axes\u001b[38;5;241m.\u001b[39mitems():\n\u001b[1;32m   4787\u001b[0m     \u001b[38;5;28;01mif\u001b[39;00m labels \u001b[38;5;129;01mis\u001b[39;00m \u001b[38;5;129;01mnot\u001b[39;00m \u001b[38;5;28;01mNone\u001b[39;00m:\n\u001b[0;32m-> 4788\u001b[0m         obj \u001b[38;5;241m=\u001b[39m \u001b[43mobj\u001b[49m\u001b[38;5;241;43m.\u001b[39;49m\u001b[43m_drop_axis\u001b[49m\u001b[43m(\u001b[49m\u001b[43mlabels\u001b[49m\u001b[43m,\u001b[49m\u001b[43m \u001b[49m\u001b[43maxis\u001b[49m\u001b[43m,\u001b[49m\u001b[43m \u001b[49m\u001b[43mlevel\u001b[49m\u001b[38;5;241;43m=\u001b[39;49m\u001b[43mlevel\u001b[49m\u001b[43m,\u001b[49m\u001b[43m \u001b[49m\u001b[43merrors\u001b[49m\u001b[38;5;241;43m=\u001b[39;49m\u001b[43merrors\u001b[49m\u001b[43m)\u001b[49m\n\u001b[1;32m   4790\u001b[0m \u001b[38;5;28;01mif\u001b[39;00m inplace:\n\u001b[1;32m   4791\u001b[0m     \u001b[38;5;28mself\u001b[39m\u001b[38;5;241m.\u001b[39m_update_inplace(obj)\n",
      "File \u001b[0;32m/opt/homebrew/Caskroom/miniforge/base/envs/be_exam/lib/python3.13/site-packages/pandas/core/generic.py:4830\u001b[0m, in \u001b[0;36mNDFrame._drop_axis\u001b[0;34m(self, labels, axis, level, errors, only_slice)\u001b[0m\n\u001b[1;32m   4828\u001b[0m         new_axis \u001b[38;5;241m=\u001b[39m axis\u001b[38;5;241m.\u001b[39mdrop(labels, level\u001b[38;5;241m=\u001b[39mlevel, errors\u001b[38;5;241m=\u001b[39merrors)\n\u001b[1;32m   4829\u001b[0m     \u001b[38;5;28;01melse\u001b[39;00m:\n\u001b[0;32m-> 4830\u001b[0m         new_axis \u001b[38;5;241m=\u001b[39m \u001b[43maxis\u001b[49m\u001b[38;5;241;43m.\u001b[39;49m\u001b[43mdrop\u001b[49m\u001b[43m(\u001b[49m\u001b[43mlabels\u001b[49m\u001b[43m,\u001b[49m\u001b[43m \u001b[49m\u001b[43merrors\u001b[49m\u001b[38;5;241;43m=\u001b[39;49m\u001b[43merrors\u001b[49m\u001b[43m)\u001b[49m\n\u001b[1;32m   4831\u001b[0m     indexer \u001b[38;5;241m=\u001b[39m axis\u001b[38;5;241m.\u001b[39mget_indexer(new_axis)\n\u001b[1;32m   4833\u001b[0m \u001b[38;5;66;03m# Case for non-unique axis\u001b[39;00m\n\u001b[1;32m   4834\u001b[0m \u001b[38;5;28;01melse\u001b[39;00m:\n",
      "File \u001b[0;32m/opt/homebrew/Caskroom/miniforge/base/envs/be_exam/lib/python3.13/site-packages/pandas/core/indexes/base.py:7070\u001b[0m, in \u001b[0;36mIndex.drop\u001b[0;34m(self, labels, errors)\u001b[0m\n\u001b[1;32m   7068\u001b[0m \u001b[38;5;28;01mif\u001b[39;00m mask\u001b[38;5;241m.\u001b[39many():\n\u001b[1;32m   7069\u001b[0m     \u001b[38;5;28;01mif\u001b[39;00m errors \u001b[38;5;241m!=\u001b[39m \u001b[38;5;124m\"\u001b[39m\u001b[38;5;124mignore\u001b[39m\u001b[38;5;124m\"\u001b[39m:\n\u001b[0;32m-> 7070\u001b[0m         \u001b[38;5;28;01mraise\u001b[39;00m \u001b[38;5;167;01mKeyError\u001b[39;00m(\u001b[38;5;124mf\u001b[39m\u001b[38;5;124m\"\u001b[39m\u001b[38;5;132;01m{\u001b[39;00mlabels[mask]\u001b[38;5;241m.\u001b[39mtolist()\u001b[38;5;132;01m}\u001b[39;00m\u001b[38;5;124m not found in axis\u001b[39m\u001b[38;5;124m\"\u001b[39m)\n\u001b[1;32m   7071\u001b[0m     indexer \u001b[38;5;241m=\u001b[39m indexer[\u001b[38;5;241m~\u001b[39mmask]\n\u001b[1;32m   7072\u001b[0m \u001b[38;5;28;01mreturn\u001b[39;00m \u001b[38;5;28mself\u001b[39m\u001b[38;5;241m.\u001b[39mdelete(indexer)\n",
      "\u001b[0;31mKeyError\u001b[0m: '[4, 6, 13, 19, 22, 35, 65, 75, 83, 89, 100, 113, 132, 182, 185, 188, 193, 228, 229, 245, 253, 266, 268, 274, 305, 316, 329, 331, 350, 378, 394, 397, 403, 413, 420, 429, 434, 437, 470, 471, 505, 515, 516, 563, 604, 612, 626, 637, 640, 641, 647, 648, 657, 664, 665, 687, 693, 703, 717, 728, 765, 768, 781, 816, 843, 873, 880, 913, 915, 926, 933, 960, 981, 1000, 1002, 1005, 1008, 1009, 1018, 1029, 1038, 1043, 1048, 1063, 1120, 1127, 1130, 1142, 1156, 1163, 1167, 1169, 1177, 1197, 1205, 1241, 1251, 1258, 1259, 1285, 1306, 1333, 1338, 1362, 1364, 1367, 1377, 1395, 1405, 1417, 1427, 1438, 1465, 1480, 1522, 1524, 1535, 1560, 1593, 1595, 1606, 1607, 1612, 1615, 1625, 1626, 1641, 1643, 1665, 1681, 1700, 1733, 1746, 1750, 1774, 1778, 1780, 1787, 1791, 1800, 1801, 1813, 1821, 1822, 1828, 1831, 1832, 1834, 1837, 1863, 1866, 1893, 1939, 1940, 1944, 1955, 1982, 2023, 2042, 2055, 2060, 2088, 2092, 2095, 2106, 2117, 2122, 2160, 2163, 2201, 2226, 2228, 2255, 2263, 2281, 2304, 2317, 2323, 2333, 2349, 2364, 2410, 2415, 2416, 2438, 2447, 2476, 2488, 2492, 2494, 2498, 2507, 2510, 2531, 2536, 2539, 2547, 2551, 2556, 2579, 2584, 2593, 2612, 2629, 2634, 2642, 2650, 2651, 2655, 2666, 2696, 2702, 2721, 2760, 2774, 2775, 2778, 2797, 2804, 2808, 2848, 2885, 2902, 2920, 2955, 2965, 2995, 3004, 3018, 3024, 3037, 3060, 3067, 3074, 3083, 3090, 3102, 3121, 3130, 3143, 3159, 3200, 3206, 3216, 3219, 3221, 3228, 3232, 3237, 3259, 3288, 3297, 3313, 3407, 3413, 3421, 3431, 3439, 3459, 3479, 3484, 3492, 3507, 3540, 3569, 3638, 3669, 3671, 3677, 3690, 3698, 3725, 3729, 3744, 3746, 3757, 3761, 3785, 3816, 3853, 3859, 3866, 3867, 3870, 3882, 3920, 3963, 3977, 3982, 3994, 3997, 4003, 4005, 4017, 4043, 4055, 4058, 4067, 4081, 4108, 4117, 4136, 4148, 4155, 4176, 4186, 4216, 4221, 4227, 4230, 4233, 4238, 4241, 4259, 4265, 4270, 4274, 4281, 4297, 4304, 4321, 4330, 4350, 4372, 4408, 4440, 4455, 4467, 4483, 4486, 4519, 4539, 4544, 4575, 4585, 4597, 4607, 4610, 4624, 4640, 4641, 4642, 4646, 4648, 4661, 4662, 4668, 4696, 4708, 4727, 4728, 4744, 4745, 4747, 4748, 4753, 4759, 4763, 4776, 4777, 4783, 4788, 4802, 4821, 4823, 4840, 4843, 4846, 4858, 4861, 4870, 4885, 4898, 4910, 4922, 4927, 4934, 4935, 4946, 4959, 4984, 4989, 4995, 4998, 5023, 5046, 5052, 5066, 5078, 5087, 5108, 5109, 5125, 5134, 5145, 5146, 5148, 5151, 5164, 5170, 5174, 5180, 5181, 5227, 5245, 5256, 5289, 5329, 5348, 5360, 5372, 5373, 5379, 5391, 5400, 5419, 5425, 5434, 5468, 5470, 5473, 5476, 5486, 5496, 5515, 5518, 5530, 5532, 5536, 5573, 5583, 5587, 5623, 5635, 5646, 5647, 5649, 5661, 5681, 5682, 5701, 5714, 5716, 5726, 5731, 5732, 5735, 5746, 5783, 5816, 5824, 5828, 5836, 5838, 5885, 5888, 5896, 5900, 5936, 5943, 5952, 5957, 5972, 5990, 5991, 6033, 6047, 6050, 6053, 6064, 6082, 6095, 6099, 6130, 6152, 6179, 6186, 6205, 6207, 6219, 6221, 6231, 6232, 6233, 6250, 6265, 6320, 6325, 6334, 6365, 6371, 6384, 6385, 6398, 6402, 6432, 6433, 6491, 6499, 6508, 6517, 6525, 6586, 6611, 6613, 6614, 6623, 6642, 6648, 6660, 6673, 6684, 6751, 6761, 6766, 6775, 6783, 6790, 6797, 6800, 6805, 6839, 6841, 6862, 6869, 6870, 6874, 6875, 6884, 6917, 6928, 6941, 6992, 7016, 7046, 7059, 7066, 7071, 7138, 7141, 7152, 7166, 7169, 7170, 7205, 7223, 7231, 7251, 7263, 7266, 7270, 7287, 7303, 7354, 7374, 7425, 7435, 7442, 7444, 7456, 7480, 7511, 7529, 7534, 7539, 7558, 7561, 7566, 7597, 7600, 7610, 7620, 7623, 7633, 7640, 7647, 7676, 7707, 7720, 7723, 7724, 7734, 7749, 7771, 7775, 7785, 7793, 7799, 7811, 7816, 7828, 7871, 7882, 7892, 7895, 7900, 7923, 7924, 7926, 7947, 7970, 8018, 8023, 8027, 8028, 8041, 8043, 8077, 8079, 8103, 8104, 8111, 8115, 8116, 8122, 8160, 8161, 8182, 8183, 8189, 8203, 8206, 8223, 8231, 8234, 8246, 8248, 8250, 8258, 8264, 8284, 8289, 8290, 8337, 8341, 8346, 8368, 8377, 8383, 8432, 8584, 8599, 8611, 8621, 8626, 8633, 8635, 8648, 8660, 8667, 8681, 8694, 8699, 8702, 8710, 8713, 8721, 8753, 8760, 8763, 8773, 8785, 8794, 8803, 8836, 8837, 8839, 8848, 8851, 8869, 8875, 8900, 8916, 8921, 8937, 8953, 8975, 8988, 9030, 9032, 9054, 9056, 9081, 9083, 9089, 9091, 9102, 9128, 9135, 9137, 9144, 9145, 9175, 9179, 9199, 9211, 9239, 9243, 9251, 9253, 9257, 9262, 9274, 9289, 9296, 9312, 9319, 9334, 9339, 9353, 9354, 9357, 9361, 9367, 9380, 9381, 9382, 9414, 9417, 9435, 9437, 9493, 9494, 9496, 9501, 9516, 9524, 9551, 9563, 9566, 9567, 9580, 9584, 9585, 9602, 9607, 9608, 9623, 9625, 9634, 9636, 9648, 9667, 9698, 9708, 9715, 9723, 9735, 9739, 9750, 9752, 9767, 9802, 9807, 9831, 9841, 9849, 9873, 9875, 9898, 9904, 9956, 9982, 10001, 10024, 10028, 10047, 10056, 10065, 10076, 10100, 10110, 10116, 10132, 10150, 10156, 10177, 10179, 10201, 10205, 10207, 10214, 10241, 10248, 10261, 10265, 10266, 10270, 10272, 10285, 10318, 10333, 10345, 10355, 10363, 10364, 10408, 10431, 10436, 10474, 10475, 10508, 10539, 10559, 10570, 10578, 10612, 10620, 10666, 10670, 10673, 10699, 10710, 10726, 10738, 10756, 10767, 10795, 10801, 10833, 10841, 10850, 10871, 10883, 10890, 10891, 10914, 10941, 10978, 11003, 11054, 11109, 11129, 11132, 11201, 11224, 11230, 11253, 11285, 11303, 11313, 11338, 11347, 11355, 11366, 11389, 11403, 11406, 11437, 11457, 11467, 11493, 11517, 11561, 11562, 11595, 11607, 11609, 11623, 11646, 11655, 11685, 11701, 11709, 11732, 11748, 11761, 11762, 11767, 11783, 11788, 11802, 11848, 11871, 11881, 11888, 11901, 11905, 11907, 11921, 11939, 11945, 11946, 11947, 11966, 11968, 11973, 11976, 11987, 12021, 12026, 12034, 12035, 12037, 12052, 12063, 12065, 12123, 12162, 12189, 12194, 12219, 12237, 12240, 12249, 12288, 12307, 12313, 12322, 12357, 12361, 12368, 12370, 12371, 12373, 12385, 12397, 12398, 12408, 12414, 12421, 12422, 12424, 12429, 12435, 12455, 12461, 12505, 12510, 12561, 12568, 12576, 12578, 12603, 12606, 12611, 12616, 12625, 12647, 12676, 12698, 12707, 12724, 12751, 12773, 12779, 12788, 12796, 12801, 12839, 12856, 12859, 12867, 12872, 12875, 12883, 12892, 12910, 12978, 12989, 12993, 13071, 13073, 13084, 13094, 13098, 13123, 13135, 13138, 13158, 13170, 13183, 13195, 13205, 13240, 13253, 13289, 13292, 13310, 13314, 13322, 13326, 13330, 13341, 13361, 13379, 13405, 13406, 13414, 13416, 13417, 13432, 13439, 13467, 13472, 13473, 13490, 13495, 13520, 13530, 13546, 13549, 13574, 13577, 13596, 13613, 13659, 13661, 13663, 13679, 13692, 13720, 13745, 13759, 13763, 13768, 13771, 13779, 13791, 13796, 13825, 13833, 13837, 13838, 13853, 13870, 13872, 13891, 13897, 13898, 13907, 13925, 13930, 13933, 13935, 13951, 13957, 13970, 13979, 13984, 13987, 13989, 14004, 14018, 14028, 14029, 14033, 14047, 14056, 14071, 14073, 14131, 14134, 14178, 14188, 14202, 14208, 14224, 14239, 14262, 14285, 14315, 14333, 14362, 14372, 14377, 14385, 14406, 14424, 14430, 14445, 14448, 14458, 14464, 14489, 14490, 14504, 14522, 14546, 14547, 14555, 14557, 14561, 14573, 14584, 14604, 14605, 14610, 14628, 14651, 14652, 14656, 14664, 14665, 14669, 14674, 14680, 14705, 14721, 14723, 14726, 14728, 14731, 14737, 14757, 14758, 14761, 14779, 14791, 14815, 14865, 14883, 14931, 14941, 14960, 14980, 15003, 15005, 15007, 15014, 15049, 15074, 15083, 15090, 15098, 15140, 15170, 15180, 15181, 15184, 15192, 15200, 15207, 15220, 15233, 15237, 15248, 15258, 15259, 15285, 15286, 15317, 15320, 15324, 15334, 15336, 15342, 15349, 15366, 15396, 15408, 15413, 15418, 15420, 15427, 15470, 15479, 15480, 15502, 15520, 15524, 15529, 15550, 15557, 15573, 15592, 15593, 15599, 15637, 15638, 15654, 15678, 15679, 15683, 15684, 15710, 15711, 15712, 15732, 15747, 15748, 15768, 15781, 15787, 15796, 15812, 15822, 15823, 15832, 15836, 15839, 15846, 15851, 15856, 15861, 15864, 15876, 15879, 15909, 15912, 15916, 15922, 15924, 15952, 15983, 15988, 15992, 16001, 16006, 16018, 16032, 16035, 16043, 16090, 16117, 16121, 16208, 16239, 16251, 16265, 16277] not found in axis'"
     ]
    }
   ],
   "source": [
    "print(f\"df shape before dropping NaNs: {df.shape}\")\n",
    "df.drop(nan_rows, inplace=True)\n",
    "print(f\"df shape after dropping NaNs: {df.shape}\")"
   ]
  },
  {
   "cell_type": "code",
   "execution_count": 14,
   "metadata": {},
   "outputs": [
    {
     "name": "stdout",
     "output_type": "stream",
     "text": [
      "df shape before dropping NaNs: (16281,)\n",
      "df shape after dropping NaNs: (15060,)\n"
     ]
    }
   ],
   "source": [
    "y_train = np.load(\"adult/y_train.npy\", allow_pickle=True)\n",
    "print(f\"df shape before dropping NaNs: {y_train.shape}\")\n",
    "y_train = np.delete(y_train, nan_rows, axis=0)\n",
    "print(f\"df shape after dropping NaNs: {y_train.shape}\")"
   ]
  },
  {
   "cell_type": "code",
   "execution_count": 15,
   "metadata": {},
   "outputs": [],
   "source": [
    "array = df.to_numpy()"
   ]
  },
  {
   "cell_type": "code",
   "execution_count": 16,
   "metadata": {},
   "outputs": [
    {
     "name": "stdout",
     "output_type": "stream",
     "text": [
      "df shape before dropping NaNs: (16281, 6)\n",
      "df shape after dropping NaNs: (15060, 6)\n"
     ]
    }
   ],
   "source": [
    "x_num = np.load(\"adult/X_num_train.npy\", allow_pickle=True)\n",
    "print(f\"df shape before dropping NaNs: {x_num.shape}\")\n",
    "x_num = np.delete(x_num, nan_rows, axis=0)\n",
    "print(f\"df shape after dropping NaNs: {x_num.shape}\")"
   ]
  },
  {
   "cell_type": "code",
   "execution_count": 17,
   "metadata": {},
   "outputs": [],
   "source": [
    "np.save(\"adult/X_cat_train.npy\", array)\n",
    "np.save(\"adult/X_num_train.npy\", x_num)\n",
    "np.save(\"adult/y_train.npy\", y_train)"
   ]
  }
 ],
 "metadata": {
  "kernelspec": {
   "display_name": "be_exam",
   "language": "python",
   "name": "python3"
  },
  "language_info": {
   "codemirror_mode": {
    "name": "ipython",
    "version": 3
   },
   "file_extension": ".py",
   "mimetype": "text/x-python",
   "name": "python",
   "nbconvert_exporter": "python",
   "pygments_lexer": "ipython3",
   "version": "3.13.1"
  }
 },
 "nbformat": 4,
 "nbformat_minor": 2
}
