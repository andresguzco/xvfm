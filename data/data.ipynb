{
 "cells": [
  {
   "cell_type": "code",
   "execution_count": 1,
   "metadata": {},
   "outputs": [],
   "source": [
    "import numpy as np\n",
    "import pandas as pd\n",
    "import os"
   ]
  },
  {
   "cell_type": "code",
   "execution_count": 3,
   "metadata": {},
   "outputs": [],
   "source": [
    "def check_files_in_subdirectories():\n",
    "    # Define the target file names\n",
    "    target_files = [\"X_num_train.npy\", \"X_cat_train.npy\", \"y_train.npy\"]\n",
    "\n",
    "    # Walk through all subdirectories in the current directory\n",
    "    for root, dirs, files in os.walk(\".\"):\n",
    "        for target_file in target_files:\n",
    "            if target_file in files:\n",
    "                file_path = os.path.join(root, target_file)\n",
    "                try:\n",
    "                    # Load the .npy file\n",
    "                    data = np.load(file_path, allow_pickle=True)\n",
    "                    \n",
    "                    # Check if the data is numeric\n",
    "                    if np.issubdtype(data.dtype, np.number):\n",
    "                        # If numeric, check for NaN values\n",
    "                        if np.isnan(data).any():\n",
    "                            print(f\"NaNs found in file: {file_path}\")\n",
    "                    else:\n",
    "                        # If categorical, print unique values\n",
    "                        unique_values = np.unique(data)\n",
    "                        print(f\"Unique values in file {file_path}: {unique_values}\")\n",
    "                except Exception as e:\n",
    "                    # Catch any errors during file loading and processing\n",
    "                    print(f\"Error loading file {file_path}: {e}\")"
   ]
  },
  {
   "cell_type": "code",
   "execution_count": 4,
   "metadata": {},
   "outputs": [
    {
     "name": "stdout",
     "output_type": "stream",
     "text": [
      "Unique values in file ./abalone/X_cat_train.npy: ['F' 'I' 'M']\n",
      "Unique values in file ./cardio/X_cat_train.npy: ['0' '1' '2' '3']\n",
      "Unique values in file ./fb-comments/X_cat_train.npy: ['0' '1' '10' '100' '101' '105' '106' '11' '12' '13' '14' '15' '16' '17'\n",
      " '18' '19' '2' '20' '21' '22' '23' '24' '25' '26' '27' '28' '29' '3' '30'\n",
      " '31' '32' '33' '34' '35' '36' '38' '39' '4' '40' '42' '44' '45' '46' '47'\n",
      " '49' '5' '50' '51' '54' '55' '56' '57' '58' '59' '6' '60' '61' '62' '63'\n",
      " '66' '67' '68' '72' '73' '75' '76' '77' '79' '8' '80' '81' '82' '83' '85'\n",
      " '87' '89' '9' '90' '91' '92' '93' '96']\n",
      "Unique values in file ./buddy/X_cat_train.npy: ['0' '0.0' '1' '1.0' '10' '11' '12' '13' '14' '15' '16' '17' '18' '19' '2'\n",
      " '2.0' '3' '4' '5' '6' '7' '8' '9' 'Agouti' 'Apricot' 'Black'\n",
      " 'Black Brindle' 'Black Smoke' 'Black Tabby' 'Black Tiger' 'Blue'\n",
      " 'Blue Cream' 'Blue Merle' 'Blue Point' 'Blue Smoke' 'Blue Tabby'\n",
      " 'Blue Tick' 'Blue Tiger' 'Brown' 'Brown Brindle' 'Brown Merle'\n",
      " 'Brown Tabby' 'Brown Tiger' 'Buff' 'Calico' 'Calico Point' 'Chocolate'\n",
      " 'Chocolate Point' 'Cream' 'Cream Tabby' 'Fawn' 'Flame Point' 'Gold'\n",
      " 'Gray' 'Gray Tabby' 'Green' 'Lilac Point' 'Liver' 'Liver Tick'\n",
      " 'Lynx Point' 'Orange' 'Orange Tabby' 'Pink' 'Red' 'Red Merle' 'Red Tick'\n",
      " 'Sable' 'Seal Point' 'Silver' 'Silver Lynx Point' 'Silver Tabby' 'Tan'\n",
      " 'Torbie' 'Tortie' 'Tortie Point' 'Tricolor' 'White' 'Yellow'\n",
      " 'Yellow Brindle']\n",
      "Unique values in file ./churn2/X_cat_train.npy: ['0' '1' 'France' 'Germany' 'Spain']\n",
      "Unique values in file ./adult/X_cat_train.npy: ['10th' '11th' '12th' '1st-4th' '5th-6th' '7th-8th' '9th' 'Adm-clerical'\n",
      " 'Amer-Indian-Eskimo' 'Armed-Forces' 'Asian-Pac-Islander' 'Assoc-acdm'\n",
      " 'Assoc-voc' 'Bachelors' 'Black' 'Cambodia' 'Canada' 'China' 'Columbia'\n",
      " 'Craft-repair' 'Cuba' 'Divorced' 'Doctorate' 'Dominican-Republic'\n",
      " 'Ecuador' 'El-Salvador' 'England' 'Exec-managerial' 'Farming-fishing'\n",
      " 'Federal-gov' 'Female' 'France' 'Germany' 'Greece' 'Guatemala' 'HS-grad'\n",
      " 'Haiti' 'Handlers-cleaners' 'Holand-Netherlands' 'Honduras' 'Hong'\n",
      " 'Hungary' 'Husband' 'India' 'Iran' 'Ireland' 'Italy' 'Jamaica' 'Japan'\n",
      " 'Laos' 'Local-gov' 'Machine-op-inspct' 'Male' 'Married-AF-spouse'\n",
      " 'Married-civ-spouse' 'Married-spouse-absent' 'Masters' 'Mexico'\n",
      " 'Never-married' 'Never-worked' 'Nicaragua' 'Not-in-family' 'Other'\n",
      " 'Other-relative' 'Other-service' 'Outlying-US(Guam-USVI-etc)' 'Own-child'\n",
      " 'Peru' 'Philippines' 'Poland' 'Portugal' 'Preschool' 'Priv-house-serv'\n",
      " 'Private' 'Prof-school' 'Prof-specialty' 'Protective-serv' 'Puerto-Rico'\n",
      " 'Sales' 'Scotland' 'Self-emp-inc' 'Self-emp-not-inc' 'Separated'\n",
      " 'Some-college' 'South' 'State-gov' 'Taiwan' 'Tech-support' 'Thailand'\n",
      " 'Transport-moving' 'Trinadad&Tobago' 'United-States' 'Unmarried'\n",
      " 'Vietnam' 'White' 'Widowed' 'Wife' 'Without-pay' 'Yugoslavia' 'nan']\n",
      "Unique values in file ./insurance/X_cat_train.npy: ['female' 'male' 'no' 'northeast' 'northwest' 'southeast' 'southwest'\n",
      " 'yes']\n",
      "Unique values in file ./king/X_cat_train.npy: ['0' '1' '2' '3' '4' '5']\n"
     ]
    }
   ],
   "source": [
    "check_files_in_subdirectories()"
   ]
  },
  {
   "cell_type": "code",
   "execution_count": 2,
   "metadata": {},
   "outputs": [
    {
     "data": {
      "text/html": [
       "<div>\n",
       "<style scoped>\n",
       "    .dataframe tbody tr th:only-of-type {\n",
       "        vertical-align: middle;\n",
       "    }\n",
       "\n",
       "    .dataframe tbody tr th {\n",
       "        vertical-align: top;\n",
       "    }\n",
       "\n",
       "    .dataframe thead th {\n",
       "        text-align: right;\n",
       "    }\n",
       "</style>\n",
       "<table border=\"1\" class=\"dataframe\">\n",
       "  <thead>\n",
       "    <tr style=\"text-align: right;\">\n",
       "      <th></th>\n",
       "      <th>0</th>\n",
       "      <th>1</th>\n",
       "      <th>2</th>\n",
       "      <th>3</th>\n",
       "      <th>4</th>\n",
       "      <th>5</th>\n",
       "      <th>6</th>\n",
       "      <th>7</th>\n",
       "    </tr>\n",
       "  </thead>\n",
       "  <tbody>\n",
       "    <tr>\n",
       "      <th>0</th>\n",
       "      <td>Private</td>\n",
       "      <td>HS-grad</td>\n",
       "      <td>Never-married</td>\n",
       "      <td>Handlers-cleaners</td>\n",
       "      <td>Own-child</td>\n",
       "      <td>White</td>\n",
       "      <td>Female</td>\n",
       "      <td>United-States</td>\n",
       "    </tr>\n",
       "    <tr>\n",
       "      <th>1</th>\n",
       "      <td>Private</td>\n",
       "      <td>11th</td>\n",
       "      <td>Never-married</td>\n",
       "      <td>Other-service</td>\n",
       "      <td>Own-child</td>\n",
       "      <td>White</td>\n",
       "      <td>Male</td>\n",
       "      <td>El-Salvador</td>\n",
       "    </tr>\n",
       "    <tr>\n",
       "      <th>2</th>\n",
       "      <td>State-gov</td>\n",
       "      <td>Some-college</td>\n",
       "      <td>Married-civ-spouse</td>\n",
       "      <td>Craft-repair</td>\n",
       "      <td>Husband</td>\n",
       "      <td>White</td>\n",
       "      <td>Male</td>\n",
       "      <td>United-States</td>\n",
       "    </tr>\n",
       "    <tr>\n",
       "      <th>3</th>\n",
       "      <td>Private</td>\n",
       "      <td>Bachelors</td>\n",
       "      <td>Divorced</td>\n",
       "      <td>Tech-support</td>\n",
       "      <td>Not-in-family</td>\n",
       "      <td>White</td>\n",
       "      <td>Male</td>\n",
       "      <td>United-States</td>\n",
       "    </tr>\n",
       "    <tr>\n",
       "      <th>4</th>\n",
       "      <td>Self-emp-inc</td>\n",
       "      <td>Masters</td>\n",
       "      <td>Married-civ-spouse</td>\n",
       "      <td>Prof-specialty</td>\n",
       "      <td>Husband</td>\n",
       "      <td>White</td>\n",
       "      <td>Male</td>\n",
       "      <td>United-States</td>\n",
       "    </tr>\n",
       "  </tbody>\n",
       "</table>\n",
       "</div>"
      ],
      "text/plain": [
       "              0             1                   2                  3  \\\n",
       "0       Private       HS-grad       Never-married  Handlers-cleaners   \n",
       "1       Private          11th       Never-married      Other-service   \n",
       "2     State-gov  Some-college  Married-civ-spouse       Craft-repair   \n",
       "3       Private     Bachelors            Divorced       Tech-support   \n",
       "4  Self-emp-inc       Masters  Married-civ-spouse     Prof-specialty   \n",
       "\n",
       "               4      5       6              7  \n",
       "0      Own-child  White  Female  United-States  \n",
       "1      Own-child  White    Male    El-Salvador  \n",
       "2        Husband  White    Male  United-States  \n",
       "3  Not-in-family  White    Male  United-States  \n",
       "4        Husband  White    Male  United-States  "
      ]
     },
     "execution_count": 2,
     "metadata": {},
     "output_type": "execute_result"
    }
   ],
   "source": [
    "df = pd.DataFrame(np.load(\"adult/X_cat_train.npy\", allow_pickle=True))\n",
    "df.head(5)"
   ]
  },
  {
   "cell_type": "code",
   "execution_count": 5,
   "metadata": {},
   "outputs": [
    {
     "name": "stdout",
     "output_type": "stream",
     "text": [
      "['Private' 'State-gov' 'Self-emp-inc' 'Local-gov' 'Self-emp-not-inc'\n",
      " 'Federal-gov' 'Without-pay']\n",
      "['HS-grad' '11th' 'Some-college' 'Bachelors' 'Masters' '10th' '12th' '9th'\n",
      " '7th-8th' 'Doctorate' 'Assoc-acdm' 'Assoc-voc' '1st-4th' '5th-6th'\n",
      " 'Prof-school' 'Preschool']\n",
      "['Never-married' 'Married-civ-spouse' 'Divorced' 'Separated' 'Widowed'\n",
      " 'Married-spouse-absent' 'Married-AF-spouse']\n",
      "['Handlers-cleaners' 'Other-service' 'Craft-repair' 'Tech-support'\n",
      " 'Prof-specialty' 'Adm-clerical' 'Sales' 'Exec-managerial'\n",
      " 'Transport-moving' 'Protective-serv' 'Machine-op-inspct'\n",
      " 'Farming-fishing' 'Priv-house-serv' 'Armed-Forces']\n",
      "['Own-child' 'Husband' 'Not-in-family' 'Other-relative' 'Unmarried' 'Wife']\n",
      "['White' 'Black' 'Asian-Pac-Islander' 'Amer-Indian-Eskimo' 'Other']\n",
      "['Female' 'Male']\n",
      "['United-States' 'El-Salvador' 'Puerto-Rico' 'South' 'Ecuador' 'Mexico'\n",
      " 'Vietnam' 'Yugoslavia' 'England' 'Trinadad&Tobago' 'Columbia' 'Iran'\n",
      " 'Jamaica' 'Poland' 'Philippines' 'Guatemala' 'Cuba' 'Greece' 'Italy'\n",
      " 'Cambodia' 'Canada' 'Germany' 'Hong' 'France' 'India' 'Nicaragua' 'Japan'\n",
      " 'Dominican-Republic' 'China' 'Hungary' 'Taiwan' 'Peru' 'Haiti' 'Portugal'\n",
      " 'Thailand' 'Ireland' 'Laos' 'Honduras' 'Scotland'\n",
      " 'Outlying-US(Guam-USVI-etc)' 'Holand-Netherlands']\n"
     ]
    }
   ],
   "source": [
    "for i in range(8):\n",
    "    print(df.iloc[:, i].unique())"
   ]
  },
  {
   "cell_type": "code",
   "execution_count": 6,
   "metadata": {},
   "outputs": [
    {
     "name": "stdout",
     "output_type": "stream",
     "text": [
      "NaNs found in column 0\n",
      "NaNs found in column 3\n",
      "NaNs found in column 7\n"
     ]
    }
   ],
   "source": [
    "for i in range(8):\n",
    "    if 'nan' in df.iloc[:, i].unique():\n",
    "        print(f\"NaNs found in column {i}\")"
   ]
  },
  {
   "cell_type": "code",
   "execution_count": 7,
   "metadata": {},
   "outputs": [],
   "source": [
    "df.replace('nan' , np.nan, inplace=True)"
   ]
  },
  {
   "cell_type": "code",
   "execution_count": 8,
   "metadata": {},
   "outputs": [
    {
     "data": {
      "text/plain": [
       "Index([   13,    21,    70,    84,   113,   116,   142,   180,   205,   206,\n",
       "       ...\n",
       "       25873, 25878, 25898, 25928, 25932, 25936, 25957, 25963, 25984, 26001],\n",
       "      dtype='int64', length=1919)"
      ]
     },
     "execution_count": 8,
     "metadata": {},
     "output_type": "execute_result"
    }
   ],
   "source": [
    "\n",
    "nan_rows = df[df.isna().any(axis=1)].index\n",
    "nan_rows"
   ]
  },
  {
   "cell_type": "code",
   "execution_count": 9,
   "metadata": {},
   "outputs": [
    {
     "name": "stdout",
     "output_type": "stream",
     "text": [
      "df shape before dropping NaNs: (26048, 8)\n",
      "df shape after dropping NaNs: (24129, 8)\n"
     ]
    }
   ],
   "source": [
    "print(f\"df shape before dropping NaNs: {df.shape}\")\n",
    "df.drop(nan_rows, inplace=True)\n",
    "print(f\"df shape after dropping NaNs: {df.shape}\")"
   ]
  },
  {
   "cell_type": "code",
   "execution_count": 10,
   "metadata": {},
   "outputs": [
    {
     "name": "stdout",
     "output_type": "stream",
     "text": [
      "df shape before dropping NaNs: (26048,)\n",
      "df shape after dropping NaNs: (24129,)\n"
     ]
    }
   ],
   "source": [
    "\n",
    "y_train = np.load(\"adult/y_train.npy\", allow_pickle=True)\n",
    "print(f\"df shape before dropping NaNs: {y_train.shape}\")\n",
    "y_train = np.delete(y_train, nan_rows, axis=0)\n",
    "print(f\"df shape after dropping NaNs: {y_train.shape}\")"
   ]
  },
  {
   "cell_type": "code",
   "execution_count": 11,
   "metadata": {},
   "outputs": [],
   "source": [
    "array = df.to_numpy()"
   ]
  },
  {
   "cell_type": "code",
   "execution_count": 12,
   "metadata": {},
   "outputs": [
    {
     "name": "stdout",
     "output_type": "stream",
     "text": [
      "df shape before dropping NaNs: (26048, 6)\n",
      "df shape after dropping NaNs: (24129, 6)\n"
     ]
    }
   ],
   "source": [
    "x_num = np.load(\"adult/X_num_train.npy\", allow_pickle=True)\n",
    "print(f\"df shape before dropping NaNs: {x_num.shape}\")\n",
    "x_num = np.delete(x_num, nan_rows, axis=0)\n",
    "print(f\"df shape after dropping NaNs: {x_num.shape}\")"
   ]
  },
  {
   "cell_type": "code",
   "execution_count": 13,
   "metadata": {},
   "outputs": [],
   "source": [
    "np.save(\"adult/X_cat_train.npy\", array)\n",
    "np.save(\"adult/X_num_train.npy\", x_num)\n",
    "np.save(\"adult/y_train.npy\", y_train)"
   ]
  }
 ],
 "metadata": {
  "kernelspec": {
   "display_name": "XVFM",
   "language": "python",
   "name": "python3"
  },
  "language_info": {
   "codemirror_mode": {
    "name": "ipython",
    "version": 3
   },
   "file_extension": ".py",
   "mimetype": "text/x-python",
   "name": "python",
   "nbconvert_exporter": "python",
   "pygments_lexer": "ipython3",
   "version": "3.10.0"
  }
 },
 "nbformat": 4,
 "nbformat_minor": 2
}
